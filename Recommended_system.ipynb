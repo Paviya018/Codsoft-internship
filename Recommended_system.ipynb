{
  "nbformat": 4,
  "nbformat_minor": 0,
  "metadata": {
    "colab": {
      "provenance": []
    },
    "kernelspec": {
      "name": "python3",
      "display_name": "Python 3"
    },
    "language_info": {
      "name": "python"
    }
  },
  "cells": [
    {
      "cell_type": "code",
      "execution_count": 1,
      "metadata": {
        "id": "jdkPWlDOTg29",
        "colab": {
          "base_uri": "https://localhost:8080/"
        },
        "outputId": "13686117-a971-447b-df39-d1bd42b627c8"
      },
      "outputs": [
        {
          "output_type": "stream",
          "name": "stdout",
          "text": [
            "Recommended movies based on 'The Dark Knight':\n",
            "1               The Godfather\n",
            "3                Pulp Fiction\n",
            "0    The Shawshank Redemption\n",
            "4                Forrest Gump\n",
            "Name: title, dtype: object\n"
          ]
        }
      ],
      "source": [
        "import pandas as pd\n",
        "from sklearn.feature_extraction.text import TfidfVectorizer\n",
        "from sklearn.metrics.pairwise import linear_kernel\n",
        "\n",
        "# Sample movie data\n",
        "movies_data = {\n",
        "    'title': ['The Shawshank Redemption', 'The Godfather', 'The Dark Knight', 'Pulp Fiction', 'Forrest Gump'],\n",
        "    'genre': ['Drama', 'Crime, Drama', 'Action, Crime, Drama', 'Crime, Drama', 'Drama, Romance'],\n",
        "    'director': ['Frank Darabont', 'Francis Ford Coppola', 'Christopher Nolan', 'Quentin Tarantino', 'Robert Zemeckis']\n",
        "}\n",
        "\n",
        "# Convert data to DataFrame\n",
        "movies_df = pd.DataFrame(movies_data)\n",
        "\n",
        "# Create TF-IDF vectorizer\n",
        "tfidf_vectorizer = TfidfVectorizer(stop_words='english')\n",
        "\n",
        "# Fit and transform the data\n",
        "tfidf_matrix = tfidf_vectorizer.fit_transform(movies_df['genre'])\n",
        "\n",
        "# Compute cosine similarity matrix\n",
        "cosine_sim = linear_kernel(tfidf_matrix, tfidf_matrix)\n",
        "\n",
        "# Function to recommend movies based on user preferences\n",
        "def recommend_movies(movie_title, cosine_sim=cosine_sim):\n",
        "    idx = movies_df[movies_df['title'] == movie_title].index[0]\n",
        "    sim_scores = list(enumerate(cosine_sim[idx]))\n",
        "    sim_scores = sorted(sim_scores, key=lambda x: x[1], reverse=True)\n",
        "    sim_scores = sim_scores[1:6]\n",
        "    movie_indices = [i[0] for i in sim_scores]\n",
        "    return movies_df['title'].iloc[movie_indices]\n",
        "\n",
        "# Test the recommendation system\n",
        "movie_title = 'The Dark Knight'\n",
        "recommended_movies = recommend_movies(movie_title)\n",
        "print(f\"Recommended movies based on '{movie_title}':\")\n",
        "print(recommended_movies)\n"
      ]
    }
  ]
}