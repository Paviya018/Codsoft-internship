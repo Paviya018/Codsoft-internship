{
  "cells": [
    {
      "cell_type": "code",
      "execution_count": null,
      "metadata": {
        "colab": {
          "background_save": true,
          "base_uri": "https://localhost:8080/"
        },
        "id": "5q-VYT0HLcXQ",
        "outputId": "5dcd62cf-a5dd-4cf5-8a38-b92b8e69bb09"
      },
      "outputs": [
        {
          "name": "stdout",
          "output_type": "stream",
          "text": [
            "Welcome to CollegeBot. How can I assist you today?\n",
            "CollegeBot: Hello!\n",
            "CollegeBot: I'm sorry, I didn't understand that. Can you please rephrase?\n"
          ]
        }
      ],
      "source": [
        "import nltk\n",
        "from nltk.chat.util import Chat, reflections\n",
        "\n",
        "# Define patterns and responses for the chatbot\n",
        "patterns = [\n",
        "    (r'hi|hello|hey', ['Hello!', 'Hi there!', 'Hey!']),\n",
        "    (r'bye|goodbye', ['Goodbye!', 'Have a great day!', 'Bye!']),\n",
        "    (r'admission', ['For admission details, please visit our college website or contact the admission office.']),\n",
        "    (r'courses', ['We offer a variety of courses including undergraduate and graduate programs. You can find more details on our website.']),\n",
        "    (r'location', ['Our college is located at [Insert College Address].']),\n",
        "    (r'facilities', ['We provide state-of-the-art facilities including libraries, laboratories, sports complexes, and more.']),\n",
        "    (r'contact', ['You can contact us at [Insert College Contact Information].']),\n",
        "    (r'(.*)', [\"I'm sorry, I didn't understand that. Can you please rephrase?\"])\n",
        "]\n",
        "\n",
        "# Create a chatbot with NLTK's Chat class\n",
        "college_bot = Chat(patterns, reflections)\n",
        "\n",
        "# Main function to interact with the chatbot\n",
        "def main():\n",
        "    print(\"Welcome to CollegeBot. How can I assist you today?\")\n",
        "    while True:\n",
        "        user_input = input(\"You: \")\n",
        "        if user_input.lower() == 'bye':\n",
        "            print(\"CollegeBot: Goodbye! Have a great day.\")\n",
        "            break\n",
        "        response = college_bot.respond(user_input)\n",
        "        print(\"CollegeBot:\", response)\n",
        "\n",
        "if __name__ == \"__main__\":\n",
        "    main()\n"
      ]
    }
  ],
  "metadata": {
    "colab": {
      "provenance": []
    },
    "kernelspec": {
      "display_name": "Python 3",
      "name": "python3"
    },
    "language_info": {
      "name": "python"
    }
  },
  "nbformat": 4,
  "nbformat_minor": 0
}